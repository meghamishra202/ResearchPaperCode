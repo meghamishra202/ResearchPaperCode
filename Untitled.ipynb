{
 "cells": [
  {
   "cell_type": "markdown",
   "id": "3b6bc507",
   "metadata": {},
   "source": [
    "## Importing files and libraries"
   ]
  },
  {
   "cell_type": "code",
   "execution_count": 1,
   "id": "9980d8ed",
   "metadata": {},
   "outputs": [],
   "source": [
    "import pandas as pd\n",
    "import numpy as np"
   ]
  },
  {
   "cell_type": "markdown",
   "id": "1e6caa29",
   "metadata": {},
   "source": [
    "### Extracting bigPatentData, train, test and val files"
   ]
  },
  {
   "cell_type": "code",
   "execution_count": null,
   "id": "287c14c3",
   "metadata": {},
   "outputs": [],
   "source": [
    "import tarfile\n",
    "  \n",
    "# open file\n",
    "file = tarfile.open(r'C:\\\\Users\\\\Megha\\\\Documents\\\\Text Summarization\\\\bigPatentData.tar.gz')\n",
    "  \n",
    "# extracting file\n",
    "file.extractall(r'C:\\Users\\Megha\\Documents\\Text Summarization')\n",
    "  \n",
    "file.close()"
   ]
  },
  {
   "cell_type": "code",
   "execution_count": 1,
   "id": "37e2012b",
   "metadata": {},
   "outputs": [],
   "source": [
    "import tarfile\n",
    "  \n",
    "# open file\n",
    "file = tarfile.open(r'C:\\Users\\Megha\\Documents\\Text Summarization\\bigPatentData\\test.tar.gz')\n",
    "  \n",
    "# extracting file\n",
    "file.extractall(r'C:\\Users\\Megha\\Documents\\Text Summarization\\bigPatentData')\n",
    "  \n",
    "file.close()"
   ]
  },
  {
   "cell_type": "code",
   "execution_count": 2,
   "id": "2f7bb315",
   "metadata": {},
   "outputs": [],
   "source": [
    "import tarfile\n",
    "  \n",
    "# open file\n",
    "file = tarfile.open(r'C:\\Users\\Megha\\Documents\\Text Summarization\\bigPatentData\\train.tar.gz')\n",
    "  \n",
    "# extracting file\n",
    "file.extractall(r'C:\\Users\\Megha\\Documents\\Text Summarization\\bigPatentData')\n",
    "  \n",
    "file.close()"
   ]
  },
  {
   "cell_type": "code",
   "execution_count": 3,
   "id": "e3d17865",
   "metadata": {},
   "outputs": [],
   "source": [
    "import tarfile\n",
    "  \n",
    "# open file\n",
    "file = tarfile.open(r'C:\\Users\\Megha\\Documents\\Text Summarization\\bigPatentData\\val.tar.gz')\n",
    "  \n",
    "# extracting file\n",
    "file.extractall(r'C:\\Users\\Megha\\Documents\\Text Summarization\\bigPatentData')\n",
    "  \n",
    "file.close()"
   ]
  },
  {
   "cell_type": "code",
   "execution_count": null,
   "id": "9129fa86",
   "metadata": {},
   "outputs": [],
   "source": []
  },
  {
   "cell_type": "code",
   "execution_count": null,
   "id": "073719bc",
   "metadata": {},
   "outputs": [],
   "source": []
  }
 ],
 "metadata": {
  "kernelspec": {
   "display_name": "Python 3 (ipykernel)",
   "language": "python",
   "name": "python3"
  },
  "language_info": {
   "codemirror_mode": {
    "name": "ipython",
    "version": 3
   },
   "file_extension": ".py",
   "mimetype": "text/x-python",
   "name": "python",
   "nbconvert_exporter": "python",
   "pygments_lexer": "ipython3",
   "version": "3.9.12"
  },
  "toc": {
   "base_numbering": 1,
   "nav_menu": {},
   "number_sections": true,
   "sideBar": true,
   "skip_h1_title": false,
   "title_cell": "Table of Contents",
   "title_sidebar": "Contents",
   "toc_cell": false,
   "toc_position": {},
   "toc_section_display": true,
   "toc_window_display": false
  }
 },
 "nbformat": 4,
 "nbformat_minor": 5
}
